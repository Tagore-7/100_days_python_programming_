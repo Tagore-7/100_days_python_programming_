{
 "cells": [
  {
   "cell_type": "markdown",
   "metadata": {},
   "source": [
    "# introduction  to user accpet or accepting user  inputs"
   ]
  },
  {
   "cell_type": "raw",
   "metadata": {},
   "source": [
    "##example:\n",
    "  instagram:\n",
    "        username:\n",
    "        dob: date of birth\n",
    "        password:---highly protection"
   ]
  },
  {
   "cell_type": "raw",
   "metadata": {},
   "source": [
    "process to login : username and password:-----login ---> verifying our database and matches --- it gives permission--->\n",
    "        if the  deatils are wrong--- it shows enter correct data"
   ]
  },
  {
   "cell_type": "code",
   "execution_count": 1,
   "metadata": {},
   "outputs": [
    {
     "name": "stdout",
     "output_type": "stream",
     "text": [
      "python is the bestyes it is\n",
      "yes it is\n"
     ]
    }
   ],
   "source": [
    "message=input(\"python is the best\")\n",
    "print(message)"
   ]
  },
  {
   "cell_type": "code",
   "execution_count": 2,
   "metadata": {},
   "outputs": [],
   "source": [
    "## enhancement of the code "
   ]
  },
  {
   "cell_type": "code",
   "execution_count": 3,
   "metadata": {},
   "outputs": [
    {
     "name": "stdout",
     "output_type": "stream",
     "text": [
      " what is your name:tagore\n",
      "\n",
      " welcome,nice to have you on instagram,tagore\n"
     ]
    }
   ],
   "source": [
    "name=input(\" what is your name:\")\n",
    "print(f\"\\n welcome,nice to have you on instagram,{name}\")"
   ]
  },
  {
   "cell_type": "code",
   "execution_count": 4,
   "metadata": {},
   "outputs": [],
   "source": [
    "## f----used for combining the strings\n",
    "### n-- new line "
   ]
  },
  {
   "cell_type": "raw",
   "metadata": {},
   "source": [
    "further enhancement:\n",
    "                     formatting name "
   ]
  },
  {
   "cell_type": "code",
   "execution_count": 5,
   "metadata": {},
   "outputs": [
    {
     "name": "stdout",
     "output_type": "stream",
     "text": [
      " what is your name:tagore\n",
      "\n",
      " welcome,nice to have you on instagram,Tagore\n"
     ]
    }
   ],
   "source": [
    "name=input(\" what is your name:\")\n",
    "\n",
    "print(f\"\\n welcome,nice to have you on instagram,{name.title()}\")"
   ]
  },
  {
   "cell_type": "raw",
   "metadata": {},
   "source": [
    "case study:\n",
    "     understanding if condition:"
   ]
  },
  {
   "cell_type": "raw",
   "metadata": {},
   "source": [
    "building a simple voting application :\n",
    "       age >18\n",
    "          \n",
    "            ---> things required to be validated from the users :\n",
    "                \n",
    "                1.ask the user age.\n",
    "                \n",
    "                validate the age \n",
    "                \n",
    "                age>=18-->eligible to vote\n",
    "                \n",
    "                if not it will say sorry you are not eligible to vote ,try next year"
   ]
  },
  {
   "cell_type": "code",
   "execution_count": 8,
   "metadata": {},
   "outputs": [
    {
     "name": "stdout",
     "output_type": "stream",
     "text": [
      "what is your age :45\n",
      " you can vote :\n"
     ]
    }
   ],
   "source": [
    "age=int(input(\"what is your age :\"))\n",
    "if age>=18:\n",
    "    print(\" you can vote :\")\n",
    "else:\n",
    "    print(\"try next year\")"
   ]
  },
  {
   "cell_type": "code",
   "execution_count": 9,
   "metadata": {},
   "outputs": [],
   "source": [
    "##note points :--> input method will be accpeting the data as string"
   ]
  },
  {
   "cell_type": "raw",
   "metadata": {},
   "source": [
    "'30'>30-----> not possible----> invalid "
   ]
  },
  {
   "cell_type": "raw",
   "metadata": {},
   "source": [
    "typecasting-----converting one data type into another datatype"
   ]
  },
  {
   "cell_type": "code",
   "execution_count": 11,
   "metadata": {},
   "outputs": [],
   "source": [
    "age=int(age)"
   ]
  },
  {
   "cell_type": "code",
   "execution_count": 12,
   "metadata": {},
   "outputs": [
    {
     "data": {
      "text/plain": [
       "45"
      ]
     },
     "execution_count": 12,
     "metadata": {},
     "output_type": "execute_result"
    }
   ],
   "source": [
    "age"
   ]
  },
  {
   "cell_type": "code",
   "execution_count": 13,
   "metadata": {},
   "outputs": [],
   "source": [
    "age=float(age)"
   ]
  },
  {
   "cell_type": "code",
   "execution_count": 14,
   "metadata": {},
   "outputs": [
    {
     "data": {
      "text/plain": [
       "45.0"
      ]
     },
     "execution_count": 14,
     "metadata": {},
     "output_type": "execute_result"
    }
   ],
   "source": [
    "age"
   ]
  },
  {
   "cell_type": "code",
   "execution_count": null,
   "metadata": {},
   "outputs": [],
   "source": []
  }
 ],
 "metadata": {
  "kernelspec": {
   "display_name": "Python 3",
   "language": "python",
   "name": "python3"
  },
  "language_info": {
   "codemirror_mode": {
    "name": "ipython",
    "version": 3
   },
   "file_extension": ".py",
   "mimetype": "text/x-python",
   "name": "python",
   "nbconvert_exporter": "python",
   "pygments_lexer": "ipython3",
   "version": "3.7.3"
  }
 },
 "nbformat": 4,
 "nbformat_minor": 2
}
